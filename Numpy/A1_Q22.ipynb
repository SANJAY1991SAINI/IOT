{
 "cells": [
  {
   "cell_type": "code",
   "execution_count": 1,
   "id": "c5b16ad8-6f52-4b7b-af00-e85d7a8c198f",
   "metadata": {},
   "outputs": [],
   "source": [
    "#22. Write a NumPy program to convert an data type into to a floating type."
   ]
  },
  {
   "cell_type": "code",
   "execution_count": 2,
   "id": "82f34a2e-b2cd-4d3e-8434-ead3d9dc8d8a",
   "metadata": {},
   "outputs": [],
   "source": [
    "import numpy as np"
   ]
  },
  {
   "cell_type": "code",
   "execution_count": 4,
   "id": "673560ab-e95c-40df-872e-fbc01abb9671",
   "metadata": {},
   "outputs": [
    {
     "name": "stdout",
     "output_type": "stream",
     "text": [
      "Dtype= float32\n"
     ]
    }
   ],
   "source": [
    "n= np.array([1,2,3,4,5], dtype=np.float32)\n",
    "print(f\"Dtype= {n.dtype}\")"
   ]
  },
  {
   "cell_type": "code",
   "execution_count": null,
   "id": "36026a2f-0ef5-4f40-85dd-56f97aa4ff44",
   "metadata": {},
   "outputs": [],
   "source": []
  }
 ],
 "metadata": {
  "kernelspec": {
   "display_name": "Python 3 (ipykernel)",
   "language": "python",
   "name": "python3"
  },
  "language_info": {
   "codemirror_mode": {
    "name": "ipython",
    "version": 3
   },
   "file_extension": ".py",
   "mimetype": "text/x-python",
   "name": "python",
   "nbconvert_exporter": "python",
   "pygments_lexer": "ipython3",
   "version": "3.10.12"
  }
 },
 "nbformat": 4,
 "nbformat_minor": 5
}
