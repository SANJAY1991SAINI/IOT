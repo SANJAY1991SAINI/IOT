{
 "cells": [
  {
   "cell_type": "code",
   "execution_count": 1,
   "id": "7e106b89-9c17-4e4d-8c62-6b3afb6f2932",
   "metadata": {},
   "outputs": [],
   "source": [
    "#21. Write a NumPy program to reverse an array (the first element becomes the last)."
   ]
  },
  {
   "cell_type": "code",
   "execution_count": 2,
   "id": "2a1f3ab6-729c-4d3d-9348-7e950461ede7",
   "metadata": {},
   "outputs": [],
   "source": [
    "import numpy as np"
   ]
  },
  {
   "cell_type": "code",
   "execution_count": 39,
   "id": "2402d71b-2519-4dd0-9e22-56f92f815289",
   "metadata": {},
   "outputs": [
    {
     "name": "stdout",
     "output_type": "stream",
     "text": [
      "Original Array: [7 8 3 2 4]\n",
      "Reversed Array: [4 2 3 8 7]\n"
     ]
    }
   ],
   "source": [
    "arr = np.random.randint(0,9,5)\n",
    "print(\"Original Array:\",arr)\n",
    "\n",
    "arr =arr[::-1]\n",
    "print(\"Reversed Array:\",arr)"
   ]
  },
  {
   "cell_type": "code",
   "execution_count": null,
   "id": "d569eed6-3cbe-43da-8aca-b9e6da4a23e7",
   "metadata": {},
   "outputs": [],
   "source": []
  }
 ],
 "metadata": {
  "kernelspec": {
   "display_name": "Python 3 (ipykernel)",
   "language": "python",
   "name": "python3"
  },
  "language_info": {
   "codemirror_mode": {
    "name": "ipython",
    "version": 3
   },
   "file_extension": ".py",
   "mimetype": "text/x-python",
   "name": "python",
   "nbconvert_exporter": "python",
   "pygments_lexer": "ipython3",
   "version": "3.10.12"
  }
 },
 "nbformat": 4,
 "nbformat_minor": 5
}
