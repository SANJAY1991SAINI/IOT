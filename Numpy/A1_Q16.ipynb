{
 "cells": [
  {
   "cell_type": "code",
   "execution_count": 1,
   "id": "4e7eefdb-a84c-4d17-9dd2-c961e0682f0d",
   "metadata": {},
   "outputs": [],
   "source": [
    "#16. Write a NumPy program to create a 3x3x3 array filled with arbitrary     values."
   ]
  },
  {
   "cell_type": "code",
   "execution_count": 2,
   "id": "32a5970e-954f-427a-9983-61b964204180",
   "metadata": {},
   "outputs": [],
   "source": [
    "import numpy as np"
   ]
  },
  {
   "cell_type": "code",
   "execution_count": 17,
   "id": "c5000b8b-7567-4dc4-abda-be95f435c6a2",
   "metadata": {},
   "outputs": [
    {
     "name": "stdout",
     "output_type": "stream",
     "text": [
      "[[[-0.32340855 -1.33379288  0.02811627]\n",
      "  [-1.06648644  0.19975625  0.99390563]\n",
      "  [ 2.51452909 -0.13535941  1.09266752]]\n",
      "\n",
      " [[-0.26812519 -1.21134379  0.20259073]\n",
      "  [-1.63694294  0.35546063  1.33775761]\n",
      "  [ 0.57888694  0.53827934  0.13145643]]\n",
      "\n",
      " [[ 0.5454402  -0.04124936 -0.52642083]\n",
      "  [-0.35708823  1.10456475  0.59674028]\n",
      "  [ 0.37277114 -1.93850412  1.55723738]]]\n"
     ]
    }
   ],
   "source": [
    "arr= np.random.randn(3,3,3)\n",
    "print(arr)"
   ]
  },
  {
   "cell_type": "code",
   "execution_count": null,
   "id": "e231126a-bdcb-4d9b-92d9-d0dde92fa31b",
   "metadata": {},
   "outputs": [],
   "source": []
  },
  {
   "cell_type": "code",
   "execution_count": null,
   "id": "271c9043-51eb-46d4-8861-1e14d167f078",
   "metadata": {},
   "outputs": [],
   "source": []
  },
  {
   "cell_type": "code",
   "execution_count": null,
   "id": "7c03bdbd-6198-4ac5-8eaa-3f74ac5c93ba",
   "metadata": {},
   "outputs": [],
   "source": []
  }
 ],
 "metadata": {
  "kernelspec": {
   "display_name": "Python 3 (ipykernel)",
   "language": "python",
   "name": "python3"
  },
  "language_info": {
   "codemirror_mode": {
    "name": "ipython",
    "version": 3
   },
   "file_extension": ".py",
   "mimetype": "text/x-python",
   "name": "python",
   "nbconvert_exporter": "python",
   "pygments_lexer": "ipython3",
   "version": "3.10.12"
  }
 },
 "nbformat": 4,
 "nbformat_minor": 5
}
