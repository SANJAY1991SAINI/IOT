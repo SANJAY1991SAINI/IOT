{
 "cells": [
  {
   "cell_type": "code",
   "execution_count": 1,
   "id": "6815111e-b76e-495f-bc2f-824fafe4af74",
   "metadata": {},
   "outputs": [],
   "source": [
    "#12. Write a NumPy program to create a 3x4 matrix filled with values from 10     to 21."
   ]
  },
  {
   "cell_type": "code",
   "execution_count": 2,
   "id": "7d5f24aa-2e8a-4b0a-a732-dd44bcadf1d7",
   "metadata": {},
   "outputs": [],
   "source": [
    "import numpy as np"
   ]
  },
  {
   "cell_type": "code",
   "execution_count": 30,
   "id": "72d74460-93d8-46a6-a1e1-6f09b57587df",
   "metadata": {},
   "outputs": [
    {
     "name": "stdout",
     "output_type": "stream",
     "text": [
      "[[15 14 19 13]\n",
      " [20 19 20 18]\n",
      " [10 15 15 18]]\n"
     ]
    }
   ],
   "source": [
    "#arr = np.random.randint(10,21,12)\n",
    "#print(arr)\n",
    "\n",
    "#arr1=arr.reshape(3,4)\n",
    "#print(arr1)\n",
    "\n",
    "arr = np.random.randint(10,21,12).reshape(3,4)\n",
    "print(arr)"
   ]
  },
  {
   "cell_type": "code",
   "execution_count": null,
   "id": "2bf1d757-67a1-4f99-ba0c-602290825b76",
   "metadata": {},
   "outputs": [],
   "source": []
  },
  {
   "cell_type": "code",
   "execution_count": null,
   "id": "b9afd3f7-4747-4e1e-ae5e-13857cec318b",
   "metadata": {},
   "outputs": [],
   "source": []
  }
 ],
 "metadata": {
  "kernelspec": {
   "display_name": "Python 3 (ipykernel)",
   "language": "python",
   "name": "python3"
  },
  "language_info": {
   "codemirror_mode": {
    "name": "ipython",
    "version": 3
   },
   "file_extension": ".py",
   "mimetype": "text/x-python",
   "name": "python",
   "nbconvert_exporter": "python",
   "pygments_lexer": "ipython3",
   "version": "3.10.12"
  }
 },
 "nbformat": 4,
 "nbformat_minor": 5
}
