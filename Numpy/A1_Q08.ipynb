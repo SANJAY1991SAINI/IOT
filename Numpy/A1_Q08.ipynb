{
 "cells": [
  {
   "cell_type": "code",
   "execution_count": 1,
   "id": "b5024fe2-cf80-47b8-b3e9-34cb549f8840",
   "metadata": {},
   "outputs": [],
   "source": [
    "#8. Write a NumPy program to generate an array of 15 random numbers from 10    to 40."
   ]
  },
  {
   "cell_type": "code",
   "execution_count": 2,
   "id": "65eccecc-1838-4477-8bae-23f17f0b6b7d",
   "metadata": {},
   "outputs": [],
   "source": [
    "import numpy as np"
   ]
  },
  {
   "cell_type": "code",
   "execution_count": 3,
   "id": "ef8d8f6f-39dc-47f6-a9b2-b5cbe65f758c",
   "metadata": {},
   "outputs": [
    {
     "name": "stdout",
     "output_type": "stream",
     "text": [
      "[13 27 38 36 14 28 15 22 19 36 35 33 33 10 16]\n"
     ]
    }
   ],
   "source": [
    "arr= np.random.randint(10,40,15)\n",
    "print(arr)"
   ]
  },
  {
   "cell_type": "code",
   "execution_count": null,
   "id": "e1fbca6c-0521-479f-8425-d275e3f654c0",
   "metadata": {},
   "outputs": [],
   "source": []
  }
 ],
 "metadata": {
  "kernelspec": {
   "display_name": "Python 3 (ipykernel)",
   "language": "python",
   "name": "python3"
  },
  "language_info": {
   "codemirror_mode": {
    "name": "ipython",
    "version": 3
   },
   "file_extension": ".py",
   "mimetype": "text/x-python",
   "name": "python",
   "nbconvert_exporter": "python",
   "pygments_lexer": "ipython3",
   "version": "3.10.12"
  }
 },
 "nbformat": 4,
 "nbformat_minor": 5
}
