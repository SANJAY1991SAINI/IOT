{
 "cells": [
  {
   "cell_type": "code",
   "execution_count": 1,
   "id": "aef13f3f-d7dd-41ce-9221-bd3c90905d9e",
   "metadata": {},
   "outputs": [],
   "source": [
    "#23. Write a NumPy program to convert a list array."
   ]
  },
  {
   "cell_type": "code",
   "execution_count": 2,
   "id": "4a4857c7-0002-4145-bec1-0c48be451d20",
   "metadata": {},
   "outputs": [],
   "source": [
    "import numpy as np"
   ]
  },
  {
   "cell_type": "code",
   "execution_count": 14,
   "id": "f0c04a9a-6d50-4fba-a829-d325f8996dc4",
   "metadata": {},
   "outputs": [
    {
     "name": "stdout",
     "output_type": "stream",
     "text": [
      "[1, 2, 3, 4, 5]\n",
      "Type = <class 'numpy.ndarray'>\n"
     ]
    }
   ],
   "source": [
    "l=[1,2,3,4,5]\n",
    "arr = np.array(l)\n",
    "\n",
    "print(l)\n",
    "print(f\"Type = {type(arr)}\")"
   ]
  },
  {
   "cell_type": "code",
   "execution_count": null,
   "id": "1ededef2-0212-4ca7-978e-1e0fcc334659",
   "metadata": {},
   "outputs": [],
   "source": []
  }
 ],
 "metadata": {
  "kernelspec": {
   "display_name": "Python 3 (ipykernel)",
   "language": "python",
   "name": "python3"
  },
  "language_info": {
   "codemirror_mode": {
    "name": "ipython",
    "version": 3
   },
   "file_extension": ".py",
   "mimetype": "text/x-python",
   "name": "python",
   "nbconvert_exporter": "python",
   "pygments_lexer": "ipython3",
   "version": "3.10.12"
  }
 },
 "nbformat": 4,
 "nbformat_minor": 5
}
