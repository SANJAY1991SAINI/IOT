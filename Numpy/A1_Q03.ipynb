{
 "cells": [
  {
   "cell_type": "code",
   "execution_count": 1,
   "id": "aaa123d8-3ae7-46a9-806d-01a168be3240",
   "metadata": {},
   "outputs": [],
   "source": [
    "# 3.  Write a NumPy program to create an array of 10 zeros, 10 ones, 10    fives, 10 tens, 10 twentys and 10 fiftys."
   ]
  },
  {
   "cell_type": "code",
   "execution_count": 2,
   "id": "86215e93-0ad6-4354-8c58-771ec5513696",
   "metadata": {},
   "outputs": [],
   "source": [
    "import numpy as np"
   ]
  },
  {
   "cell_type": "code",
   "execution_count": 5,
   "id": "5769c8b7-d961-4952-b331-88126f939ee5",
   "metadata": {},
   "outputs": [
    {
     "name": "stdout",
     "output_type": "stream",
     "text": [
      "[0. 0. 0. 0. 0. 0. 0. 0. 0. 0.]\n"
     ]
    }
   ],
   "source": [
    "arr0 = np.zeros(10)\n",
    "print(arr0)"
   ]
  },
  {
   "cell_type": "code",
   "execution_count": 13,
   "id": "bd11d942-f637-429f-9a17-ccc1e5b4740f",
   "metadata": {},
   "outputs": [
    {
     "name": "stdout",
     "output_type": "stream",
     "text": [
      "[1. 1. 1. 1. 1. 1. 1. 1. 1. 1.]\n"
     ]
    }
   ],
   "source": [
    "arr1 = np.ones(10)\n",
    "print(arr1)"
   ]
  },
  {
   "cell_type": "code",
   "execution_count": 12,
   "id": "acb218ab-4a87-45a7-b8e4-0beb784eccb3",
   "metadata": {},
   "outputs": [
    {
     "name": "stdout",
     "output_type": "stream",
     "text": [
      "[5. 5. 5. 5. 5. 5. 5. 5. 5. 5.]\n"
     ]
    }
   ],
   "source": [
    "arr5 = np.ones(10)*5\n",
    "print(arr5)"
   ]
  },
  {
   "cell_type": "code",
   "execution_count": 16,
   "id": "086b4c55-61b8-486e-b13d-95c33ecaa685",
   "metadata": {},
   "outputs": [
    {
     "name": "stdout",
     "output_type": "stream",
     "text": [
      "[10. 10. 10. 10. 10. 10. 10. 10. 10. 10.]\n"
     ]
    }
   ],
   "source": [
    "arr10 = np.ones(10)*10\n",
    "print(arr10)"
   ]
  },
  {
   "cell_type": "code",
   "execution_count": 17,
   "id": "b35ae32b-ca52-4d31-9e98-72f2b5614e04",
   "metadata": {},
   "outputs": [
    {
     "name": "stdout",
     "output_type": "stream",
     "text": [
      "[20. 20. 20. 20. 20. 20. 20. 20. 20. 20.]\n"
     ]
    }
   ],
   "source": [
    "arr20 = np.ones(10)*20\n",
    "print(arr20)"
   ]
  },
  {
   "cell_type": "code",
   "execution_count": 25,
   "id": "b13d8dc1-5ab3-4e62-9928-3780d497e51c",
   "metadata": {},
   "outputs": [
    {
     "name": "stdout",
     "output_type": "stream",
     "text": [
      "[[ 1  2  3  4]\n",
      " [ 8  9 10 12]]\n",
      "NDIM = 2\n",
      "Size = 8\n"
     ]
    }
   ],
   "source": []
  },
  {
   "cell_type": "code",
   "execution_count": null,
   "id": "91b5c058-8671-4529-bd0a-5e7b66b97396",
   "metadata": {},
   "outputs": [],
   "source": []
  },
  {
   "cell_type": "code",
   "execution_count": null,
   "id": "e0bec291-9aa3-4909-b3c9-ca35a71f1370",
   "metadata": {},
   "outputs": [],
   "source": []
  }
 ],
 "metadata": {
  "kernelspec": {
   "display_name": "Python 3 (ipykernel)",
   "language": "python",
   "name": "python3"
  },
  "language_info": {
   "codemirror_mode": {
    "name": "ipython",
    "version": 3
   },
   "file_extension": ".py",
   "mimetype": "text/x-python",
   "name": "python",
   "nbconvert_exporter": "python",
   "pygments_lexer": "ipython3",
   "version": "3.10.12"
  }
 },
 "nbformat": 4,
 "nbformat_minor": 5
}
