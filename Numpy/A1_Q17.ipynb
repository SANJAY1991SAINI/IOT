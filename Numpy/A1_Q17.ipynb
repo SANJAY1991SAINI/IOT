{
 "cells": [
  {
   "cell_type": "code",
   "execution_count": 1,
   "id": "816719eb-3087-4baa-81bc-16196b9b9fd4",
   "metadata": {},
   "outputs": [],
   "source": [
    "#17. Write a NumPy program to create a 2x3x4 array filled with arbitrary     values."
   ]
  },
  {
   "cell_type": "code",
   "execution_count": 2,
   "id": "4d0cd142-cd79-497c-8fdc-f347515280d8",
   "metadata": {},
   "outputs": [],
   "source": [
    "import numpy as np"
   ]
  },
  {
   "cell_type": "code",
   "execution_count": 3,
   "id": "a896bfc7-37bf-426e-8ede-5c4f5bb1ac9f",
   "metadata": {},
   "outputs": [
    {
     "name": "stdout",
     "output_type": "stream",
     "text": [
      "[[[0.33062012 0.8822442  0.11850956]\n",
      "  [0.09226862 0.46152851 0.90168468]\n",
      "  [0.15048154 0.19593655 0.86474218]]\n",
      "\n",
      " [[0.75962428 0.93838652 0.74162944]\n",
      "  [0.62618317 0.12683353 0.59485853]\n",
      "  [0.97952298 0.29034754 0.65709909]]]\n"
     ]
    }
   ],
   "source": [
    "arr = np.random.rand(2,3,3)\n",
    "print(arr)"
   ]
  },
  {
   "cell_type": "code",
   "execution_count": null,
   "id": "0f080e12-ef29-4df3-bea4-2b4c21c06ad5",
   "metadata": {},
   "outputs": [],
   "source": []
  }
 ],
 "metadata": {
  "kernelspec": {
   "display_name": "Python 3 (ipykernel)",
   "language": "python",
   "name": "python3"
  },
  "language_info": {
   "codemirror_mode": {
    "name": "ipython",
    "version": 3
   },
   "file_extension": ".py",
   "mimetype": "text/x-python",
   "name": "python",
   "nbconvert_exporter": "python",
   "pygments_lexer": "ipython3",
   "version": "3.10.12"
  }
 },
 "nbformat": 4,
 "nbformat_minor": 5
}
