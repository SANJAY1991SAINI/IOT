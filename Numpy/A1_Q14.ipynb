{
 "cells": [
  {
   "cell_type": "code",
   "execution_count": 15,
   "id": "2177324f-03b7-4621-8e35-a227026436e4",
   "metadata": {},
   "outputs": [],
   "source": [
    "#14. Write a NumPy program to find the number of rows and columns in a given     matrix."
   ]
  },
  {
   "cell_type": "code",
   "execution_count": 16,
   "id": "fa12a5e4-1c05-4994-9e86-f5e362411bb5",
   "metadata": {},
   "outputs": [],
   "source": [
    "import numpy as np"
   ]
  },
  {
   "cell_type": "code",
   "execution_count": 17,
   "id": "b0fe1e97-b8f2-44a0-bd98-de49b87e67f1",
   "metadata": {},
   "outputs": [
    {
     "name": "stdout",
     "output_type": "stream",
     "text": [
      "[7 6 7 6 5 8 0 4 5]\n"
     ]
    }
   ],
   "source": [
    "arr = np.random.randint(0,9,9)\n",
    "print(arr)"
   ]
  },
  {
   "cell_type": "code",
   "execution_count": 18,
   "id": "8a07c3e0-8799-450e-b1cb-06f1ae665aa6",
   "metadata": {},
   "outputs": [
    {
     "name": "stdout",
     "output_type": "stream",
     "text": [
      "[[7 6 7]\n",
      " [6 5 8]\n",
      " [0 4 5]]\n"
     ]
    }
   ],
   "source": [
    "arr1 = arr.reshape(3,3)\n",
    "print(arr1)"
   ]
  },
  {
   "cell_type": "code",
   "execution_count": 19,
   "id": "da29b3a9-4956-40f0-80ac-4e6704f2dba2",
   "metadata": {},
   "outputs": [
    {
     "name": "stdout",
     "output_type": "stream",
     "text": [
      "(3, 3)\n"
     ]
    }
   ],
   "source": [
    "nr,nc = arr1.shape\n",
    "print(arr1.shape)"
   ]
  },
  {
   "cell_type": "code",
   "execution_count": 20,
   "id": "6c6c64eb-eff0-45fc-947f-0fd84f6a8090",
   "metadata": {},
   "outputs": [
    {
     "name": "stdout",
     "output_type": "stream",
     "text": [
      "Number of Rows:  3\n",
      "Number of Rows:  3\n"
     ]
    }
   ],
   "source": [
    "print(\"Number of Rows: \",nr)\n",
    "print(\"Number of Rows: \",nr)"
   ]
  },
  {
   "cell_type": "code",
   "execution_count": null,
   "id": "22eaf65d-67cc-42f7-ba77-903e539c01e3",
   "metadata": {},
   "outputs": [],
   "source": []
  }
 ],
 "metadata": {
  "kernelspec": {
   "display_name": "Python 3 (ipykernel)",
   "language": "python",
   "name": "python3"
  },
  "language_info": {
   "codemirror_mode": {
    "name": "ipython",
    "version": 3
   },
   "file_extension": ".py",
   "mimetype": "text/x-python",
   "name": "python",
   "nbconvert_exporter": "python",
   "pygments_lexer": "ipython3",
   "version": "3.10.12"
  }
 },
 "nbformat": 4,
 "nbformat_minor": 5
}
