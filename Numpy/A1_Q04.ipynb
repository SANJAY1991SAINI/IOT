{
 "cells": [
  {
   "cell_type": "code",
   "execution_count": 1,
   "id": "aa9bffd0-5af0-4d8c-992c-b6bd2b625bce",
   "metadata": {},
   "outputs": [],
   "source": [
    "#4. Write a NumPy program to create an array of integers from 30 to 70."
   ]
  },
  {
   "cell_type": "code",
   "execution_count": 3,
   "id": "909344ae-e093-40ed-998f-b695bec78917",
   "metadata": {},
   "outputs": [],
   "source": [
    "import numpy as np"
   ]
  },
  {
   "cell_type": "code",
   "execution_count": 5,
   "id": "fa2a74cf-0fe5-47a9-b6e5-17b9795d4490",
   "metadata": {},
   "outputs": [
    {
     "name": "stdout",
     "output_type": "stream",
     "text": [
      "[30 31 32 33 34 35 36 37 38 39 40 41 42 43 44 45 46 47 48 49 50 51 52 53\n",
      " 54 55 56 57 58 59 60 61 62 63 64 65 66 67 68 69]\n"
     ]
    }
   ],
   "source": [
    "arr=np.arange(30, 70)\n",
    "print(arr)"
   ]
  },
  {
   "cell_type": "code",
   "execution_count": null,
   "id": "11367d54-9a35-4818-9325-2d3f698e42d7",
   "metadata": {},
   "outputs": [],
   "source": []
  },
  {
   "cell_type": "code",
   "execution_count": null,
   "id": "b8059e21-d498-4498-b5c4-59380bca53b6",
   "metadata": {},
   "outputs": [],
   "source": []
  }
 ],
 "metadata": {
  "kernelspec": {
   "display_name": "Python 3 (ipykernel)",
   "language": "python",
   "name": "python3"
  },
  "language_info": {
   "codemirror_mode": {
    "name": "ipython",
    "version": 3
   },
   "file_extension": ".py",
   "mimetype": "text/x-python",
   "name": "python",
   "nbconvert_exporter": "python",
   "pygments_lexer": "ipython3",
   "version": "3.10.12"
  }
 },
 "nbformat": 4,
 "nbformat_minor": 5
}
