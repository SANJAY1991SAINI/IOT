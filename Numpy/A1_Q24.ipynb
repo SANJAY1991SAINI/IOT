{
 "cells": [
  {
   "cell_type": "code",
   "execution_count": 1,
   "id": "3ab1741c-30ac-43da-bd02-0e1fa3518f28",
   "metadata": {},
   "outputs": [],
   "source": [
    "#24. Write a NumPy program to get the element-wise remainder of an array of division."
   ]
  },
  {
   "cell_type": "code",
   "execution_count": 2,
   "id": "fda62abd-c7d4-4e07-a042-aa82023c1c85",
   "metadata": {},
   "outputs": [],
   "source": [
    "import numpy as np"
   ]
  },
  {
   "cell_type": "code",
   "execution_count": 5,
   "id": "2bd6f83b-8c65-4181-a150-3512540144d2",
   "metadata": {},
   "outputs": [],
   "source": [
    "arr1 = np.array([19,35,17,49])\n",
    "arr2 = np.array([3,4,6,7])"
   ]
  },
  {
   "cell_type": "code",
   "execution_count": 13,
   "id": "1e12d5c7-1e58-435b-8c28-e7cdbc26bb6f",
   "metadata": {},
   "outputs": [
    {
     "name": "stdout",
     "output_type": "stream",
     "text": [
      "[1 3 5 0]\n"
     ]
    }
   ],
   "source": [
    "#rem_arr = arr1 % arr2\n",
    "#print(rem_arr)\n",
    "\n",
    "print(np.remainder(arr1, arr2))"
   ]
  },
  {
   "cell_type": "code",
   "execution_count": null,
   "id": "eae0607d-8e84-4500-ad37-b0c84066ef10",
   "metadata": {},
   "outputs": [],
   "source": []
  },
  {
   "cell_type": "code",
   "execution_count": null,
   "id": "d9ce317b-f9b0-426a-ad47-0b8ab92d9ba7",
   "metadata": {},
   "outputs": [],
   "source": []
  }
 ],
 "metadata": {
  "kernelspec": {
   "display_name": "Python 3 (ipykernel)",
   "language": "python",
   "name": "python3"
  },
  "language_info": {
   "codemirror_mode": {
    "name": "ipython",
    "version": 3
   },
   "file_extension": ".py",
   "mimetype": "text/x-python",
   "name": "python",
   "nbconvert_exporter": "python",
   "pygments_lexer": "ipython3",
   "version": "3.10.12"
  }
 },
 "nbformat": 4,
 "nbformat_minor": 5
}
