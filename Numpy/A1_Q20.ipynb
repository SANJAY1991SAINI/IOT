{
 "cells": [
  {
   "cell_type": "code",
   "execution_count": 1,
   "id": "399466c5-aef6-4357-8249-b90d43cf7271",
   "metadata": {},
   "outputs": [],
   "source": [
    "#20. Write a NumPy program to create an array with values ranging from 12 to 38."
   ]
  },
  {
   "cell_type": "code",
   "execution_count": 2,
   "id": "f05b65b0-b403-4161-a056-932927d4106a",
   "metadata": {},
   "outputs": [],
   "source": [
    "import numpy as np"
   ]
  },
  {
   "cell_type": "code",
   "execution_count": 3,
   "id": "5c2b0652-6601-43b5-959b-db97fa375cd1",
   "metadata": {},
   "outputs": [
    {
     "name": "stdout",
     "output_type": "stream",
     "text": [
      "[12 13 14 15 16 17 18 19 20 21 22 23 24 25 26 27 28 29 30 31 32 33 34 35\n",
      " 36 37]\n"
     ]
    }
   ],
   "source": [
    "array= np.arange(12,38)\n",
    "print(array)"
   ]
  },
  {
   "cell_type": "code",
   "execution_count": null,
   "id": "821d9f17-1472-4c49-97f3-edd6039d0b1b",
   "metadata": {},
   "outputs": [],
   "source": []
  }
 ],
 "metadata": {
  "kernelspec": {
   "display_name": "Python 3 (ipykernel)",
   "language": "python",
   "name": "python3"
  },
  "language_info": {
   "codemirror_mode": {
    "name": "ipython",
    "version": 3
   },
   "file_extension": ".py",
   "mimetype": "text/x-python",
   "name": "python",
   "nbconvert_exporter": "python",
   "pygments_lexer": "ipython3",
   "version": "3.10.12"
  }
 },
 "nbformat": 4,
 "nbformat_minor": 5
}
