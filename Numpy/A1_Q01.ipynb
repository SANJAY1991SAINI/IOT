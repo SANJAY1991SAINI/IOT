{
 "cells": [
  {
   "cell_type": "code",
   "execution_count": 1,
   "id": "6eb60d62-2bf8-4c5b-841e-e0fe12ed729d",
   "metadata": {},
   "outputs": [],
   "source": [
    "# Write a NumPy program to create an array with the values 1, 7, 13, 105    and determine the size of the memory occupied by the array."
   ]
  },
  {
   "cell_type": "code",
   "execution_count": 2,
   "id": "e5ab83a8-b4d1-4b4b-bd45-6625d90f58b3",
   "metadata": {},
   "outputs": [],
   "source": [
    "import numpy as np"
   ]
  },
  {
   "cell_type": "code",
   "execution_count": 6,
   "id": "3040e28c-55da-4815-9f20-3d0476081bbf",
   "metadata": {},
   "outputs": [
    {
     "name": "stdout",
     "output_type": "stream",
     "text": [
      "NBYTES = 32\n"
     ]
    }
   ],
   "source": [
    "arr= np.array([1,7,13,105])\n",
    "print(f\"NBYTES = {arr.nbytes}\")"
   ]
  },
  {
   "cell_type": "code",
   "execution_count": null,
   "id": "c1ebeaef-c90c-4a68-9400-9bf746d53be3",
   "metadata": {},
   "outputs": [],
   "source": []
  }
 ],
 "metadata": {
  "kernelspec": {
   "display_name": "Python 3 (ipykernel)",
   "language": "python",
   "name": "python3"
  },
  "language_info": {
   "codemirror_mode": {
    "name": "ipython",
    "version": 3
   },
   "file_extension": ".py",
   "mimetype": "text/x-python",
   "name": "python",
   "nbconvert_exporter": "python",
   "pygments_lexer": "ipython3",
   "version": "3.10.12"
  }
 },
 "nbformat": 4,
 "nbformat_minor": 5
}
