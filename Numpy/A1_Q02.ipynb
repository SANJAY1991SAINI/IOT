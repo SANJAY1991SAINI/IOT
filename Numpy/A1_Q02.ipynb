{
 "cells": [
  {
   "cell_type": "code",
   "execution_count": 1,
   "id": "6c20da41-e299-4aea-9a64-18d5bf31c271",
   "metadata": {},
   "outputs": [],
   "source": [
    "# 2. Write a NumPy program to create an element-wise comparison (greater,    greater_equal, less and less_equal) of two given arrays."
   ]
  },
  {
   "cell_type": "code",
   "execution_count": 2,
   "id": "e4b12746-717e-401b-bfc2-e052977c8118",
   "metadata": {},
   "outputs": [],
   "source": [
    "import numpy as np"
   ]
  },
  {
   "cell_type": "code",
   "execution_count": 6,
   "id": "398cde48-80e2-46fb-9a59-4768bc1ceea9",
   "metadata": {},
   "outputs": [],
   "source": [
    "arr1 = np.array([10,20,30,40,50])\n",
    "arr2 = np.array([11,20,28,44,52])"
   ]
  },
  {
   "cell_type": "code",
   "execution_count": 19,
   "id": "424cc847-e845-4fa8-93c7-57903b18d0ba",
   "metadata": {},
   "outputs": [
    {
     "name": "stdout",
     "output_type": "stream",
     "text": [
      "At index 0, 10 is less than 11\n",
      "At index 1, 20 is equal to 20\n",
      "At index 2, 30 is greater than 28\n",
      "At index 3, 40 is less than 44\n",
      "At index 4, 50 is less than 52\n"
     ]
    }
   ],
   "source": [
    "#size = arr1.size\n",
    "for i in range (0, arr1.size):\n",
    "    if(arr1[i]<arr2[i]):\n",
    "       print(f\"At index {i}, {arr1[i]} is less than {arr2[i]}\") \n",
    "\n",
    "    elif(arr1[i]>arr2[i]):\n",
    "        print(f\"At index {i}, {arr1[i]} is greater than {arr2[i]}\") \n",
    "\n",
    "    elif(arr1[i] == arr2[i]):\n",
    "        print(f\"At index {i}, {arr1[i]} is equal to {arr2[i]}\") "
   ]
  }
 ],
 "metadata": {
  "kernelspec": {
   "display_name": "Python 3 (ipykernel)",
   "language": "python",
   "name": "python3"
  },
  "language_info": {
   "codemirror_mode": {
    "name": "ipython",
    "version": 3
   },
   "file_extension": ".py",
   "mimetype": "text/x-python",
   "name": "python",
   "nbconvert_exporter": "python",
   "pygments_lexer": "ipython3",
   "version": "3.10.12"
  }
 },
 "nbformat": 4,
 "nbformat_minor": 5
}
