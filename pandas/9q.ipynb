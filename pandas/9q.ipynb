{
 "cells": [
  {
   "cell_type": "code",
   "execution_count": 1,
   "id": "6e7f7cb0-1dca-4b80-b070-941b8e0de6c1",
   "metadata": {},
   "outputs": [],
   "source": [
    "import pandas as pd\n",
    "import numpy as np"
   ]
  },
  {
   "cell_type": "code",
   "execution_count": null,
   "id": "a6776ee2-bd33-4325-9f33-629486f10d8b",
   "metadata": {},
   "outputs": [],
   "source": [
    "n1 = [1,2,3,4,5,6,7,8,9,10]\n",
    "n2 = [\"Sanjay\",\"Kaushal\",\"Diksha\",\"Rucha\",\"Meenal\",\"Prajakta\",\"yugendar\",\"mamta\",\"\",\"Hitul\"]\n",
    "s1 = pd.Series(n1,name=\"emp_id\")\n",
    "s2 = pd.Series(n2,name=\"names\")\n",
    "df3 = pd.concat([s1,s2],axis=1)\n",
    "print(df3)\n",
    "print(\"\")\n",
    "print(df3.head(5))\n",
    "print(\"\")\n",
    "print(df3.tail(5))\n",
    "print(\"\")\n",
    "print(df3.head(2))\n",
    "print(\"\")\n",
    "print(df3.tail(2))\n",
    "print(\"\")\n",
    "print(f\"Name of the 5th employpee: {df3.iloc[4]['names']}\")\n",
    "print(\"\")\n",
    "print(\"Record of the 4th employpee:\")\n",
    "print(df3.iloc[3])\n",
    "\n",
    "df3.to_csv('MyRecord.csv')"
   ]
  }
 ],
 "metadata": {
  "kernelspec": {
   "display_name": "Python 3 (ipykernel)",
   "language": "python",
   "name": "python3"
  },
  "language_info": {
   "codemirror_mode": {
    "name": "ipython",
    "version": 3
   },
   "file_extension": ".py",
   "mimetype": "text/x-python",
   "name": "python",
   "nbconvert_exporter": "python",
   "pygments_lexer": "ipython3",
   "version": "3.10.12"
  }
 },
 "nbformat": 4,
 "nbformat_minor": 5
}
