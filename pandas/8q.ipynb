{
 "cells": [
  {
   "cell_type": "code",
   "execution_count": 1,
   "id": "58b54cb7-92b6-4a2a-aa01-2193e8ba83cf",
   "metadata": {},
   "outputs": [],
   "source": [
    "import pandas as pd\n",
    "import numpy as np"
   ]
  },
  {
   "cell_type": "code",
   "execution_count": 3,
   "id": "5dc2dc65-9a05-401e-85bc-1aa59f2b9890",
   "metadata": {},
   "outputs": [
    {
     "name": "stdout",
     "output_type": "stream",
     "text": [
      "      Name  Age\n",
      "1   Sanjay   25\n",
      "2  Kaushal   24\n",
      "3   Diksha   24\n",
      "4    Rucha   23\n"
     ]
    }
   ],
   "source": [
    "data5 = {\"Name\": [\"Sanjay\",\"Kaushal\",\"Diksha\",\"Rucha\"], \"Age\": [25,24,24,23]}\n",
    "df2 = pd.DataFrame(data5,index=[1,2,3,4])\n",
    "print(df2)"
   ]
  },
  {
   "cell_type": "code",
   "execution_count": null,
   "id": "8df4a8d3-84d7-44bc-a5f1-0ff167ef8537",
   "metadata": {},
   "outputs": [],
   "source": []
  }
 ],
 "metadata": {
  "kernelspec": {
   "display_name": "Python 3 (ipykernel)",
   "language": "python",
   "name": "python3"
  },
  "language_info": {
   "codemirror_mode": {
    "name": "ipython",
    "version": 3
   },
   "file_extension": ".py",
   "mimetype": "text/x-python",
   "name": "python",
   "nbconvert_exporter": "python",
   "pygments_lexer": "ipython3",
   "version": "3.10.12"
  }
 },
 "nbformat": 4,
 "nbformat_minor": 5
}
